{
  "cells": [
    {
      "cell_type": "markdown",
      "metadata": {
        "id": "view-in-github",
        "colab_type": "text"
      },
      "source": [
        "<a href=\"https://colab.research.google.com/github/jyothsna1076/AnamolyDetectionPRMLProject/blob/main/RandomForestPRML.ipynb\" target=\"_parent\"><img src=\"https://colab.research.google.com/assets/colab-badge.svg\" alt=\"Open In Colab\"/></a>"
      ]
    },
    {
      "cell_type": "code",
      "execution_count": 26,
      "metadata": {
        "id": "X2zJy9MpcJJS"
      },
      "outputs": [],
      "source": [
        "import pandas as pd\n",
        "import numpy as np\n",
        "import matplotlib.pyplot as plt\n",
        "from sklearn.metrics import accuracy_score, precision_score, recall_score, f1_score, classification_report\n",
        "import time\n",
        "from sklearn.preprocessing import LabelEncoder\n",
        "from sklearn.tree import DecisionTreeClassifier,plot_tree\n",
        "from sklearn.model_selection import train_test_split\n",
        "np.random.seed(42)\n",
        "df= pd.read_csv(\"Train_data.csv\")\n",
        "def le(df):\n",
        "    for col in df.columns:\n",
        "        if df[col].dtype == 'object':\n",
        "                label_encoder = LabelEncoder()\n",
        "                df[col] = label_encoder.fit_transform(df[col])\n",
        "\n",
        "le(df)\n",
        "x=  df.drop(\"class\",axis= 1)\n",
        "y= df[\"class\"]\n",
        "x_train, x_test, y_train, y_test= train_test_split(x,y, test_size= 0.5, random_state= 42)\n"
      ]
    },
    {
      "cell_type": "code",
      "execution_count": 32,
      "metadata": {
        "id": "VUjG-OxK6LBT"
      },
      "outputs": [],
      "source": [
        "from collections import Counter\n",
        "\n",
        "class MyRandomForest:\n",
        "    def __init__(self, n_trees=10, sample_ratio=0.3, max_depth=4, n_features=None):\n",
        "        self.n_trees = n_trees\n",
        "        self.max_depth = max_depth\n",
        "        self.sample_ratio = sample_ratio\n",
        "        self.n_features = n_features  # Number of random features to select for each tree\n",
        "        self.trees = []\n",
        "        self.feature_indices = []  # Store which features each tree used\n",
        "\n",
        "    def bootstrap_sample(self, X, y):\n",
        "        n_samples = X.shape[0]\n",
        "        indices = np.random.choice(n_samples, int(n_samples * self.sample_ratio), replace=True)\n",
        "        return X.iloc[indices], y.iloc[indices]\n",
        "\n",
        "    def fit(self, X, y):\n",
        "        self.trees = []\n",
        "        self.feature_indices = []\n",
        "\n",
        "        n_total_features = X.shape[1]\n",
        "        for _ in range(self.n_trees):\n",
        "            # Select random subset of features\n",
        "            if self.n_features is None:\n",
        "                selected_features = np.arange(n_total_features)  # use all features\n",
        "            else:\n",
        "                selected_features = np.random.choice(n_total_features, self.n_features, replace=False)\n",
        "            self.feature_indices.append(selected_features)\n",
        "\n",
        "            X_sample, y_sample = self.bootstrap_sample(X.iloc[:, selected_features], y)\n",
        "\n",
        "            tree = DecisionTreeClassifier(\n",
        "                max_depth=self.max_depth\n",
        "            )\n",
        "            tree.fit(X_sample, y_sample)\n",
        "            self.trees.append(tree)\n",
        "\n",
        "    def predict(self, X):\n",
        "        tree_predictions = []\n",
        "        for tree, features in zip(self.trees, self.feature_indices):\n",
        "            preds = tree.predict(X.iloc[:, features])\n",
        "            tree_predictions.append(preds)\n",
        "\n",
        "        tree_predictions = np.array(tree_predictions).T\n",
        "        final_predictions = [Counter(row).most_common(1)[0][0] for row in tree_predictions]\n",
        "        return np.array(final_predictions)"
      ]
    },
    {
      "cell_type": "code",
      "execution_count": 39,
      "metadata": {
        "colab": {
          "base_uri": "https://localhost:8080/"
        },
        "id": "b3zHQS58Wnqq",
        "outputId": "96c7e5f6-30d1-4575-e43f-dde8191d412f"
      },
      "outputs": [
        {
          "output_type": "execute_result",
          "data": {
            "text/plain": [
              "['random_forset.pkl']"
            ]
          },
          "metadata": {},
          "execution_count": 39
        }
      ],
      "source": [
        "import joblib\n",
        "# best_sample, best_trees, best_depth = grid_search_rf(x, y, sample_ratios, n_trees_options, max_depths)\n",
        "best_sample=0.5\n",
        "best_trees= 15\n",
        "best_depth = None\n",
        "num_features = int(x_train.shape[1] * 0.3)\n",
        "start_time = time.time()\n",
        "final_model = MyRandomForest(n_trees=best_trees, sample_ratio=best_sample, max_depth=best_depth,n_features= num_features)\n",
        "final_model.fit(x_train, y_train)\n",
        "training_time = time.time() - start_time\n",
        "\n",
        "\n",
        "joblib.dump(final_model, 'random_forset.pkl')\n",
        "# print(f\"Final Model Accuracy: {final_acc:.4f}\")\n"
      ]
    },
    {
      "cell_type": "code",
      "source": [
        "model =  joblib.load('random_forset.pkl')\n",
        "y_pred = model.predict(x_test)\n",
        "accuracy = accuracy_score(y_test, y_pred)\n",
        "precision = precision_score(y_test, y_pred, average='weighted', zero_division=0)\n",
        "recall = recall_score(y_test, y_pred, average='weighted', zero_division=0)\n",
        "f1 = f1_score(y_test, y_pred, average='weighted', zero_division=0)\n",
        "\n",
        "# Print results\n",
        "print(f\"Accuracy:  {accuracy:.4f}\")\n",
        "print(f\"Precision: {precision:.4f}\")\n",
        "print(f\"Recall:    {recall:.4f}\")\n",
        "model =  joblib.load('random_forset.pkl')\n",
        "y_pred = model.predict(x_test)\n",
        "accuracy = accuracy_score(y_test, y_pred)\n",
        "precision = precision_score(y_test, y_pred, average='weighted', zero_division=0)\n",
        "recall = recall_score(y_test, y_pred, average='weighted', zero_division=0)\n",
        "f1 = f1_score(y_test, y_pred, average='weighted', zero_division=0)\n",
        "\n",
        "# Print results\n",
        "print(f\"Accuracy:  {accuracy:.4f}\")\n",
        "print(f\"Precision: {precision:.4f}\")\n",
        "print(f\"Recall:    {recall:.4f}\")\n",
        "print(f\"F1 Score:  {f1:.4f}\")\n",
        "print(f\"Training Time: {training_time:.2f} seconds\")\n",
        "print(f\"Classification Report :\\n\")\n",
        "print(classification_report(y_test, y_pred, target_names= ['Normal ', 'Anamoly']))"
      ],
      "metadata": {
        "colab": {
          "base_uri": "https://localhost:8080/"
        },
        "id": "55BChdA9d7BK",
        "outputId": "ae1e78ac-d8ca-4c2a-f7b4-9c74c25b05dd"
      },
      "execution_count": 38,
      "outputs": [
        {
          "output_type": "stream",
          "name": "stdout",
          "text": [
            "Accuracy:  0.9953\n",
            "Precision: 0.9953\n",
            "Recall:    0.9953\n",
            "Accuracy:  0.9953\n",
            "Precision: 0.9953\n",
            "Recall:    0.9953\n",
            "F1 Score:  0.9953\n",
            "Training Time: 0.46 seconds\n",
            "Classification Report :\n",
            "\n",
            "              precision    recall  f1-score   support\n",
            "\n",
            "     Normal        1.00      0.99      0.99      5878\n",
            "     Anamoly       0.99      1.00      1.00      6718\n",
            "\n",
            "    accuracy                           1.00     12596\n",
            "   macro avg       1.00      1.00      1.00     12596\n",
            "weighted avg       1.00      1.00      1.00     12596\n",
            "\n"
          ]
        }
      ]
    }
  ],
  "metadata": {
    "colab": {
      "provenance": [],
      "authorship_tag": "ABX9TyNkbzlj5eWqZsrFJkUhjudV",
      "include_colab_link": true
    },
    "kernelspec": {
      "display_name": "Python 3",
      "name": "python3"
    },
    "language_info": {
      "name": "python"
    }
  },
  "nbformat": 4,
  "nbformat_minor": 0
}