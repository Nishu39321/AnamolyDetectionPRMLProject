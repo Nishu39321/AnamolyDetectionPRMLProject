{
  "cells": [
    {
      "cell_type": "markdown",
      "metadata": {
        "id": "view-in-github",
        "colab_type": "text"
      },
      "source": [
        "<a href=\"https://colab.research.google.com/github/jyothsna1076/AnamolyDetectionPRMLProject/blob/main/RandomForestPRML.ipynb\" target=\"_parent\"><img src=\"https://colab.research.google.com/assets/colab-badge.svg\" alt=\"Open In Colab\"/></a>"
      ]
    },
    {
      "cell_type": "code",
      "execution_count": 8,
      "metadata": {
        "id": "X2zJy9MpcJJS"
      },
      "outputs": [],
      "source": [
        "import pandas as pd\n",
        "import numpy as np\n",
        "import matplotlib.pyplot as plt\n",
        "from sklearn.metrics import accuracy_score, precision_score, recall_score, f1_score\n",
        "import time\n",
        "from sklearn.preprocessing import LabelEncoder\n",
        "from sklearn.tree import DecisionTreeClassifier,plot_tree\n",
        "from sklearn.model_selection import train_test_split\n",
        "np.random.seed(42)\n",
        "df= pd.read_csv(\"Train_data.csv\")\n",
        "def le(df):\n",
        "    for col in df.columns:\n",
        "        if df[col].dtype == 'object':\n",
        "                label_encoder = LabelEncoder()\n",
        "                df[col] = label_encoder.fit_transform(df[col])\n",
        "\n",
        "le(df)\n",
        "x=  df.drop(\"class\",axis= 1)\n",
        "y= df[\"class\"]\n",
        "x_train, x_test, y_train, y_test= train_test_split(x,y, test_size= 0.2, random_state= 42)\n"
      ]
    },
    {
      "cell_type": "code",
      "execution_count": 9,
      "metadata": {
        "id": "VUjG-OxK6LBT"
      },
      "outputs": [],
      "source": [
        "from collections import Counter\n",
        "\n",
        "class MyRandomForest:\n",
        "    def __init__(self, n_trees=10,sample_ratio=0.3, max_depth=None, n_features=None):\n",
        "        self.n_trees = n_trees\n",
        "        self.max_depth = max_depth\n",
        "        self.sample_ratio = sample_ratio\n",
        "        self.n_features = n_features\n",
        "        self.trees = []\n",
        "\n",
        "    def bootstrap_sample(self, X, y):\n",
        "        n_samples = X.shape[0]\n",
        "        indices = np.random.choice(n_samples, int(n_samples* self.sample_ratio), replace=True)\n",
        "        return X.iloc[indices], y.iloc[indices]\n",
        "\n",
        "    def fit(self, X, y):\n",
        "        self.trees = []\n",
        "        for _ in range(self.n_trees):\n",
        "            X_sample, y_sample = self.bootstrap_sample(X, y)\n",
        "            tree = DecisionTreeClassifier(\n",
        "                max_depth=self.max_depth,\n",
        "                max_features=self.n_features,\n",
        "                # random_state= 42\n",
        "            )\n",
        "            tree.fit(X_sample, y_sample)\n",
        "            # plt.figure(figsize=(30, 20))\n",
        "            # plot_tree(tree)\n",
        "            # plt.show()\n",
        "            self.trees.append(tree)\n",
        "\n",
        "    def predict(self, X):\n",
        "        tree_predictions = np.array([tree.predict(X) for tree in self.trees])\n",
        "        final_predictions = []\n",
        "\n",
        "        for sample_preds in tree_predictions.T:\n",
        "            # Majority vote\n",
        "            vote = Counter(sample_preds).most_common(1)[0][0]\n",
        "            final_predictions.append(vote)\n",
        "\n",
        "        return np.array(final_predictions)"
      ]
    },
    {
      "cell_type": "code",
      "execution_count": 10,
      "metadata": {
        "colab": {
          "base_uri": "https://localhost:8080/"
        },
        "id": "b3zHQS58Wnqq",
        "outputId": "c2eaf0d6-beb9-49fe-fd62-2687c4b45d22"
      },
      "outputs": [
        {
          "output_type": "execute_result",
          "data": {
            "text/plain": [
              "['random_forset.pkl']"
            ]
          },
          "metadata": {},
          "execution_count": 10
        }
      ],
      "source": [
        "import joblib\n",
        "# best_sample, best_trees, best_depth = grid_search_rf(x, y, sample_ratios, n_trees_options, max_depths)\n",
        "best_sample=0.5\n",
        "best_trees= 15\n",
        "best_depth = None\n",
        "start_time = time.time()\n",
        "final_model = MyRandomForest(n_trees=best_trees, sample_ratio=best_sample, max_depth=best_depth)\n",
        "final_model.fit(x_train, y_train)\n",
        "training_time = time.time() - start_time\n",
        "\n",
        "\n",
        "joblib.dump(final_model, 'random_forset.pkl')\n",
        "# print(f\"Final Model Accuracy: {final_acc:.4f}\")\n"
      ]
    },
    {
      "cell_type": "code",
      "source": [
        "model =  joblib.load('random_forset.pkl')\n",
        "y_pred = model.predict(x_test)\n",
        "accuracy = accuracy_score(y_test, y_pred)\n",
        "precision = precision_score(y_test, y_pred, average='weighted', zero_division=0)\n",
        "recall = recall_score(y_test, y_pred, average='weighted', zero_division=0)\n",
        "f1 = f1_score(y_test, y_pred, average='weighted', zero_division=0)\n",
        "\n",
        "# Print results\n",
        "print(f\"Accuracy:  {accuracy:.4f}\")\n",
        "print(f\"Precision: {precision:.4f}\")\n",
        "print(f\"Recall:    {recall:.4f}\")\n",
        "print(f\"F1 Score:  {f1:.4f}\")\n",
        "print(f\"Training Time: {training_time:.2f} seconds\")\n"
      ],
      "metadata": {
        "colab": {
          "base_uri": "https://localhost:8080/"
        },
        "id": "55BChdA9d7BK",
        "outputId": "e80b2813-c3db-43e2-eb1d-3b07c46a4efd"
      },
      "execution_count": 11,
      "outputs": [
        {
          "output_type": "stream",
          "name": "stdout",
          "text": [
            "Accuracy:  0.9980\n",
            "Precision: 0.9980\n",
            "Recall:    0.9980\n",
            "F1 Score:  0.9980\n",
            "Training Time: 0.84 seconds\n"
          ]
        }
      ]
    }
  ],
  "metadata": {
    "colab": {
      "provenance": [],
      "authorship_tag": "ABX9TyOoYV3KpymAwP2NEpJfSBNz",
      "include_colab_link": true
    },
    "kernelspec": {
      "display_name": "Python 3",
      "name": "python3"
    },
    "language_info": {
      "name": "python"
    }
  },
  "nbformat": 4,
  "nbformat_minor": 0
}